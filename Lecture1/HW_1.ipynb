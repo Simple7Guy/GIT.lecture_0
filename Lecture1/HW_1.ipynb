{
 "cells": [
  {
   "cell_type": "code",
   "execution_count": 1,
   "metadata": {},
   "outputs": [
    {
     "name": "stdout",
     "output_type": "stream",
     "text": [
      "True\n"
     ]
    }
   ],
   "source": [
    "long_phrase = 'Насколько проще было бы писать программы, если бы не заказчики'\n",
    "short_phrase = '640Кб должно хватить для любых задач. Билл Гейтс (по легенде)'\n",
    "if len(long_phrase) > len(short_phrase):\n",
    "    print(\"True\")\n",
    "else:\n",
    "    print(\"False\")"
   ]
  },
  {
   "cell_type": "code",
   "execution_count": 4,
   "metadata": {},
   "outputs": [
    {
     "name": "stdout",
     "output_type": "stream",
     "text": [
      "Введите объем файла в байтах: 1000000\n",
      "Объем файла равен 0.95367431640625 Mb\n"
     ]
    }
   ],
   "source": [
    "byte=int(input(\"Введите объем файла в байтах: \"))\n",
    "Mbyte=byte/(2**20)\n",
    "print(\"Объем файла равен\",Mbyte,\"Mb\")"
   ]
  },
  {
   "cell_type": "code",
   "execution_count": null,
   "metadata": {},
   "outputs": [],
   "source": []
  },
  {
   "cell_type": "code",
   "execution_count": 2,
   "metadata": {},
   "outputs": [
    {
     "name": "stdout",
     "output_type": "stream",
     "text": [
      "Введите месяц др: апрель\n",
      "Введите др др: 21\n",
      "Овен\n"
     ]
    }
   ],
   "source": [
    "month=input(\"Введите месяц др: \")\n",
    "day=int(input(\"Введите др др: \"))\n",
    "if (month==\"декабрь\" and (22 <= day <= 31) ) or ((1 <= day <= 19) and month==\"январь\"):\n",
    "    print(\"Козерог\")\n",
    "elif (month==\"январь\" and (20 <= day <= 31) ) or ((1 <= day <= 19) and month==\"февраль\"):\n",
    "    print(\"Водолей\")\n",
    "elif (month==\"февраль\" and (20 <= day <= 27) ) or ((1 <= day <= 21) and month==\"март\"):\n",
    "    print(\"Рыбы\")\n",
    "elif (month==\"март\" and (22 <= day <= 31) ) or ((1 <= day <= 21) and month==\"апрель\"):\n",
    "    print(\"Овен\")\n",
    "elif (month==\"апрель\" and (22 <= day <= 30) ) or ((1 <= day <= 21) and month==\"май\"):\n",
    "    print(\"Телец\")\n",
    "elif (month==\"май\" and (22 <= day <= 31) ) or ((1 <= day <= 21) and month==\"июнь\"):\n",
    "    print(\"Близнецы\")\n",
    "elif (month==\"июнь\" and (22 <= day <= 30) ) or ((1 <= day <= 21) and month==\"июль\"):\n",
    "    print(\"Рак\")\n",
    "elif (month==\"июль\" and (22 <= day <= 31) ) or ((1 <= day <= 21) and month==\"август\"):\n",
    "    print(\"Лев\")\n",
    "elif (month==\"август\" and (22 <= day <= 31) ) or ((1 <= day <= 21) and month==\"сентябрь\"):\n",
    "    print(\"Дева\")\n",
    "elif (month==\"сентябрь\" and (22 <= day <= 30) ) or ((1 <= day <= 21) and month==\"октябрь\"):\n",
    "    print(\"Весы\")\n",
    "elif (month==\"октябрь\" and (22 <= day <= 31) ) or ((1 <= day <= 20) and month==\"ноябрь\"):\n",
    "    print(\"Скорпион\")\n",
    "elif (month==\"ноябрь\" and (21 <= day <= 30) ) or ((1 <= day <= 21) and month==\"декабрь\"):\n",
    "    print(\"Стрелец\")\n",
    "else:\n",
    "    print(\"хз, попробуй снова\")"
   ]
  },
  {
   "cell_type": "code",
   "execution_count": 7,
   "metadata": {},
   "outputs": [
    {
     "name": "stdout",
     "output_type": "stream",
     "text": [
      "Введите заработанную плату в месяц: 50000\n",
      "Введите сколько процентов уходит на ипотеку: 30\n",
      "Введите сколько процентов уходит на жизнь: 50\n",
      "Введите количество премий за год: 3\n",
      " На ипотеку было потрачено:  180000.0  руб.\n",
      " На пенсию:  195000.0  руб.\n"
     ]
    }
   ],
   "source": [
    "salary=int(input(\"Введите заработанную плату в месяц: \"))\n",
    "mortgage=int(input(\"Введите сколько процентов уходит на ипотеку: \"))\n",
    "life=int(input(\"Введите сколько процентов уходит на жизнь: \"))\n",
    "prize=int(input(\"Введите количество премий за год: \"))\n",
    "prize=salary*prize #Размер премии в год\n",
    "salary=salary*12 #ЗП в год\n",
    "mortgage=salary*mortgage/100 #Расходы на ипотеку в год\n",
    "life=salary*life/100 #Траты на жизнь в год\n",
    "pension=salary-mortgage-life+prize/2 #Сколько уходит на пенсию\n",
    "print(\" На ипотеку было потрачено: \", mortgage,\" руб.\")\n",
    "print(\" На пенсию: \", pension,\" руб.\")\n"
   ]
  },
  {
   "cell_type": "code",
   "execution_count": null,
   "metadata": {},
   "outputs": [],
   "source": []
  }
 ],
 "metadata": {
  "kernelspec": {
   "display_name": "Python 3",
   "language": "python",
   "name": "python3"
  }
 },
 "nbformat": 4,
 "nbformat_minor": 4
}
