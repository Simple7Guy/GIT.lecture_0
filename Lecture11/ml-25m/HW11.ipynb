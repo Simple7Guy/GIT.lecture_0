{
 "cells": [
  {
   "cell_type": "markdown",
   "metadata": {},
   "source": [
    "**Задание 1.**\n",
    "Скачайте с сайта https://grouplens.org/datasets/movielens/ датасет любого размера. \n",
    "Определите какому фильму было выставлено больше всего оценок 5.0."
   ]
  },
  {
   "cell_type": "code",
   "execution_count": 88,
   "metadata": {},
   "outputs": [],
   "source": [
    "import pandas as pd\n",
    "movies = pd.read_csv('movies.csv')\n",
    "ratings = pd.read_csv('ratings.csv')\n",
    "movies_n = movies.merge(ratings, how = 'left', left_on='movieId', right_on='movieId')"
   ]
  },
  {
   "cell_type": "code",
   "execution_count": 82,
   "metadata": {},
   "outputs": [
    {
     "data": {
      "text/plain": [
       "318    39553\n",
       "Name: movieId, dtype: int64"
      ]
     },
     "execution_count": 82,
     "metadata": {},
     "output_type": "execute_result"
    }
   ],
   "source": [
    "movies_n[ movies_n.rating == 5.0 ]['movieId'].value_counts().head(1)"
   ]
  },
  {
   "cell_type": "code",
   "execution_count": 87,
   "metadata": {},
   "outputs": [
    {
     "data": {
      "text/plain": [
       "2133220    Shawshank Redemption, The (1994)\n",
       "Name: title, dtype: object"
      ]
     },
     "execution_count": 87,
     "metadata": {},
     "output_type": "execute_result"
    }
   ],
   "source": [
    "movies_n[ movies_n.movieId == 318 ]['title'].head(1)"
   ]
  },
  {
   "cell_type": "markdown",
   "metadata": {},
   "source": [
    "**Задание 2.**\n",
    "По данным файла power.csv посчитайте суммарное потребление стран Прибалтики (Латвия, Литва и Эстония) категорий 4, 12 и 21 за период с 2005 по 2010 года. Не учитывайте в расчетах отрицательные значения quantity."
   ]
  },
  {
   "cell_type": "code",
   "execution_count": 138,
   "metadata": {},
   "outputs": [],
   "source": [
    "country = pd.read_csv('/Users/macbook/Desktop/Data1Science/Python/Lecture11/10/power.csv')"
   ]
  },
  {
   "cell_type": "code",
   "execution_count": 155,
   "metadata": {},
   "outputs": [
    {
     "name": "stdout",
     "output_type": "stream",
     "text": [
      "240580.0\n"
     ]
    }
   ],
   "source": [
    "country_1 = country[ ((country.country == 'Latvia') | (country.country == 'Lithuania') | (country.country == 'Estonia')) & (2004 < country.year) & (country.year < 2011) & ((country.category == 4) | (country.category == 12) | (country.category == 21)) ]\n",
    "print(country_1[ country_1.quantity >= 0 ].quantity.sum())"
   ]
  },
  {
   "cell_type": "markdown",
   "metadata": {},
   "source": [
    "**Задание 3.**\n",
    "Выберите страницу любого сайта с табличными данными. Импортируйте таблицы в pandas dataframe.\n",
    "Примеры страниц (необязательно брать именно эти):\n",
    "https://fortrader.org/quotes\n",
    "https://www.finanz.ru/valyuty/v-realnom-vremeni"
   ]
  },
  {
   "cell_type": "code",
   "execution_count": 168,
   "metadata": {},
   "outputs": [],
   "source": [
    "df = pd.read_html('https://ru.tradingview.com/markets/currencies/rates-major/')"
   ]
  },
  {
   "cell_type": "code",
   "execution_count": 170,
   "metadata": {},
   "outputs": [
    {
     "data": {
      "text/html": [
       "<div>\n",
       "<style scoped>\n",
       "    .dataframe tbody tr th:only-of-type {\n",
       "        vertical-align: middle;\n",
       "    }\n",
       "\n",
       "    .dataframe tbody tr th {\n",
       "        vertical-align: top;\n",
       "    }\n",
       "\n",
       "    .dataframe thead th {\n",
       "        text-align: right;\n",
       "    }\n",
       "</style>\n",
       "<table border=\"1\" class=\"dataframe\">\n",
       "  <thead>\n",
       "    <tr style=\"text-align: right;\">\n",
       "      <th></th>\n",
       "      <th>Unnamed: 0</th>\n",
       "      <th>Unnamed: 1</th>\n",
       "      <th>Unnamed: 2</th>\n",
       "      <th>Unnamed: 3</th>\n",
       "      <th>Unnamed: 4</th>\n",
       "      <th>Unnamed: 5</th>\n",
       "      <th>Unnamed: 6</th>\n",
       "      <th>Unnamed: 7</th>\n",
       "      <th>Unnamed: 8</th>\n",
       "    </tr>\n",
       "  </thead>\n",
       "  <tbody>\n",
       "    <tr>\n",
       "      <th>0</th>\n",
       "      <td>EURUSD  Евро / Доллар США</td>\n",
       "      <td>1.09</td>\n",
       "      <td>-0.02%</td>\n",
       "      <td>-0.00</td>\n",
       "      <td>1.09</td>\n",
       "      <td>1.09</td>\n",
       "      <td>1.09</td>\n",
       "      <td>1.09</td>\n",
       "      <td>Покупать</td>\n",
       "    </tr>\n",
       "    <tr>\n",
       "      <th>1</th>\n",
       "      <td>USDJPY  Доллар США / Японская иена</td>\n",
       "      <td>107.60</td>\n",
       "      <td>-0.00%</td>\n",
       "      <td>-0.00</td>\n",
       "      <td>107.60</td>\n",
       "      <td>107.65</td>\n",
       "      <td>107.60</td>\n",
       "      <td>107.60</td>\n",
       "      <td>Покупать</td>\n",
       "    </tr>\n",
       "    <tr>\n",
       "      <th>2</th>\n",
       "      <td>GBPUSD  Британский фунт / Доллар США</td>\n",
       "      <td>1.22</td>\n",
       "      <td>-0.45%</td>\n",
       "      <td>-0.01</td>\n",
       "      <td>1.22</td>\n",
       "      <td>1.22</td>\n",
       "      <td>1.22</td>\n",
       "      <td>1.22</td>\n",
       "      <td>Продавать</td>\n",
       "    </tr>\n",
       "    <tr>\n",
       "      <th>3</th>\n",
       "      <td>AUDUSD  Австралийский доллар / Доллар США</td>\n",
       "      <td>0.65</td>\n",
       "      <td>-0.38%</td>\n",
       "      <td>-0.00</td>\n",
       "      <td>0.65</td>\n",
       "      <td>0.65</td>\n",
       "      <td>0.66</td>\n",
       "      <td>0.65</td>\n",
       "      <td>Покупать</td>\n",
       "    </tr>\n",
       "    <tr>\n",
       "      <th>4</th>\n",
       "      <td>USDCAD  Доллар США / Канадский доллар</td>\n",
       "      <td>1.40</td>\n",
       "      <td>-0.06%</td>\n",
       "      <td>-0.00</td>\n",
       "      <td>1.40</td>\n",
       "      <td>1.40</td>\n",
       "      <td>1.40</td>\n",
       "      <td>1.40</td>\n",
       "      <td>Покупать</td>\n",
       "    </tr>\n",
       "    <tr>\n",
       "      <th>5</th>\n",
       "      <td>USDCHF  Доллар США / Швейцарский франк</td>\n",
       "      <td>0.97</td>\n",
       "      <td>-0.02%</td>\n",
       "      <td>-0.00</td>\n",
       "      <td>0.97</td>\n",
       "      <td>0.97</td>\n",
       "      <td>0.97</td>\n",
       "      <td>0.97</td>\n",
       "      <td>Покупать</td>\n",
       "    </tr>\n",
       "    <tr>\n",
       "      <th>6</th>\n",
       "      <td>NZDUSD  Новозеландский доллар / Доллар США</td>\n",
       "      <td>0.61</td>\n",
       "      <td>-0.39%</td>\n",
       "      <td>-0.00</td>\n",
       "      <td>0.61</td>\n",
       "      <td>0.61</td>\n",
       "      <td>0.61</td>\n",
       "      <td>0.61</td>\n",
       "      <td>Покупать</td>\n",
       "    </tr>\n",
       "  </tbody>\n",
       "</table>\n",
       "</div>"
      ],
      "text/plain": [
       "                                   Unnamed: 0  Unnamed: 1 Unnamed: 2  \\\n",
       "0                   EURUSD  Евро / Доллар США        1.09     -0.02%   \n",
       "1          USDJPY  Доллар США / Японская иена      107.60     -0.00%   \n",
       "2        GBPUSD  Британский фунт / Доллар США        1.22     -0.45%   \n",
       "3   AUDUSD  Австралийский доллар / Доллар США        0.65     -0.38%   \n",
       "4       USDCAD  Доллар США / Канадский доллар        1.40     -0.06%   \n",
       "5      USDCHF  Доллар США / Швейцарский франк        0.97     -0.02%   \n",
       "6  NZDUSD  Новозеландский доллар / Доллар США        0.61     -0.39%   \n",
       "\n",
       "   Unnamed: 3  Unnamed: 4  Unnamed: 5  Unnamed: 6  Unnamed: 7 Unnamed: 8  \n",
       "0       -0.00        1.09        1.09        1.09        1.09   Покупать  \n",
       "1       -0.00      107.60      107.65      107.60      107.60   Покупать  \n",
       "2       -0.01        1.22        1.22        1.22        1.22  Продавать  \n",
       "3       -0.00        0.65        0.65        0.66        0.65   Покупать  \n",
       "4       -0.00        1.40        1.40        1.40        1.40   Покупать  \n",
       "5       -0.00        0.97        0.97        0.97        0.97   Покупать  \n",
       "6       -0.00        0.61        0.61        0.61        0.61   Покупать  "
      ]
     },
     "execution_count": 170,
     "metadata": {},
     "output_type": "execute_result"
    }
   ],
   "source": [
    "df[0]"
   ]
  }
 ],
 "metadata": {
  "kernelspec": {
   "display_name": "Python 3",
   "language": "python",
   "name": "python3"
  },
  "language_info": {
   "codemirror_mode": {
    "name": "ipython",
    "version": 3
   },
   "file_extension": ".py",
   "mimetype": "text/x-python",
   "name": "python",
   "nbconvert_exporter": "python",
   "pygments_lexer": "ipython3",
   "version": "3.7.6"
  }
 },
 "nbformat": 4,
 "nbformat_minor": 4
}
