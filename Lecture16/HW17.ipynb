{
 "cells": [
  {
   "cell_type": "markdown",
   "metadata": {},
   "source": [
    "# Домашняя работа №1"
   ]
  },
  {
   "cell_type": "code",
   "execution_count": 22,
   "metadata": {},
   "outputs": [],
   "source": [
    "import numpy as np\n",
    "import pylab as plc\n",
    "import pandas as pd\n",
    "import warnings\n",
    "import math\n",
    "\n",
    "from matplotlib import pyplot as plt\n",
    "from scipy import linalg\n",
    "\n",
    "\n",
    "warnings.filterwarnings(\"ignore\")"
   ]
  },
  {
   "cell_type": "markdown",
   "metadata": {},
   "source": [
    "## Задание 1"
   ]
  },
  {
   "cell_type": "markdown",
   "metadata": {},
   "source": [
    "Изобразите с помощью matplotlib. Изобразите точку x + 2y + 3z. Найдите угол между векторами x, y и x, z. "
   ]
  },
  {
   "cell_type": "code",
   "execution_count": 37,
   "metadata": {},
   "outputs": [
    {
     "name": "stdout",
     "output_type": "stream",
     "text": [
      "[5 7]\n"
     ]
    }
   ],
   "source": [
    "x = np.array([1,1])\n",
    "y = np.array([2, 0])\n",
    "z = np.array([0,2])\n",
    "new = x + 2 * y + 3 * z\n",
    "print(new)"
   ]
  },
  {
   "cell_type": "code",
   "execution_count": 38,
   "metadata": {},
   "outputs": [
    {
     "data": {
      "image/png": "[encoded data removed]",
      "text/plain": [
       "<Figure size 432x288 with 1 Axes>"
      ]
     },
     "metadata": {
      "needs_background": "light"
     },
     "output_type": "display_data"
    }
   ],
   "source": [
    "plt.scatter(new[0], new[1])\n",
    "plt.show()"
   ]
  },
  {
   "cell_type": "code",
   "execution_count": 39,
   "metadata": {},
   "outputs": [
    {
     "name": "stdout",
     "output_type": "stream",
     "text": [
      "0.7853981633974484 0.7853981633974484\n"
     ]
    }
   ],
   "source": [
    "corner_1 = math.acos(np.dot(x, y) / (math.sqrt(math.pow(x[0], 2) + math.pow(x[1], 2)) * math.sqrt(math.pow(y[0], 2) + math.pow(y[1], 2))))\n",
    "corner_2 = math.acos(np.dot(x, z) / (math.sqrt(math.pow(x[0], 2) + math.pow(x[1], 2)) * math.sqrt(math.pow(z[0], 2) + math.pow(z[1], 2))))\n",
    "print(corner_1, corner_2)"
   ]
  },
  {
   "cell_type": "markdown",
   "metadata": {},
   "source": [
    "## Задание 2"
   ]
  },
  {
   "cell_type": "markdown",
   "metadata": {},
   "source": [
    "Загрузите модель человека. Найдите расстояние от правой кисти до позвоночника"
   ]
  },
  {
   "cell_type": "code",
   "execution_count": 57,
   "metadata": {},
   "outputs": [
    {
     "data": {
      "text/plain": [
       "<matplotlib.collections.PathCollection at 0x626125550>"
      ]
     },
     "execution_count": 57,
     "metadata": {},
     "output_type": "execute_result"
    },
    {
     "data": {
      "image/png": "[encoded data removed]",
      "text/plain": [
       "<Figure size 432x288 with 1 Axes>"
      ]
     },
     "metadata": {
      "needs_background": "light"
     },
     "output_type": "display_data"
    }
   ],
   "source": [
    "ns = ['type', 'x', 'y', 'z']\n",
    "# read points for joints\n",
    "dfJointsVertexes = pd.read_csv('joints.txt', sep=' ', names = ns)\n",
    "axis_sort = 'x' \n",
    "df = dfJointsVertexes.sort_values(by=[axis_sort])\n",
    "plt.scatter(df.x, df.y)"
   ]
  },
  {
   "cell_type": "code",
   "execution_count": 56,
   "metadata": {},
   "outputs": [
    {
     "data": {
      "text/plain": [
       "0.39147649704306015"
      ]
     },
     "execution_count": 56,
     "metadata": {},
     "output_type": "execute_result"
    }
   ],
   "source": [
    "vect_spine = np.array([df.x[0]-df.x[11], df.y[0]-df.y[11]])\n",
    "vect_brush = np.array([df.x[16],df.y[16]])\n",
    "cv = np.array(df.x[0], df.y[0]) + (np.dot(vect_brush,vect_spine))/np.dot(vect_spine,np.transpose(vect_spine))*vect_spine\n",
    "linalg.norm(cv - vect_brush)"
   ]
  },
  {
   "cell_type": "markdown",
   "metadata": {},
   "source": [
    "# Задание 3"
   ]
  },
  {
   "cell_type": "markdown",
   "metadata": {},
   "source": [
    "Найдите собственные значения и собственные вектора матриц (необходимо решение на numpy). Для матрицы 3x3 можно посмотреть на корни характеристического многочлена, посчитанные в numpy."
   ]
  },
  {
   "cell_type": "code",
   "execution_count": 58,
   "metadata": {},
   "outputs": [],
   "source": [
    "m1 = np.array([[2, 2],\n",
    "               [1, 3]])\n",
    "\n",
    "m2 = np.array([[4, 1, -1],\n",
    "               [1, 4, -1],\n",
    "               [-1, -1, 4]])"
   ]
  },
  {
   "cell_type": "code",
   "execution_count": 59,
   "metadata": {},
   "outputs": [],
   "source": [
    "from numpy import linalg as LA"
   ]
  },
  {
   "cell_type": "code",
   "execution_count": 60,
   "metadata": {},
   "outputs": [
    {
     "name": "stdout",
     "output_type": "stream",
     "text": [
      "Исходная матрица: \n",
      " [[2 2]\n",
      " [1 3]]\n",
      "Собственные вектора: \n",
      " [[-0.89442719 -0.70710678]\n",
      " [ 0.4472136  -0.70710678]]\n",
      "Собственные значения:  [1. 4.]\n"
     ]
    }
   ],
   "source": [
    "e_vals, e_vecs = LA.eig(m1)\n",
    "print('Исходная матрица: \\n', m1)\n",
    "print('Собственные вектора: \\n', e_vecs)\n",
    "print('Собственные значения: ', e_vals)"
   ]
  },
  {
   "cell_type": "code",
   "execution_count": 61,
   "metadata": {},
   "outputs": [
    {
     "name": "stdout",
     "output_type": "stream",
     "text": [
      "Исходная матрица: \n",
      " [[ 4  1 -1]\n",
      " [ 1  4 -1]\n",
      " [-1 -1  4]]\n",
      "Собственные вектора: \n",
      " [[-0.81649658  0.57735027 -0.27658128]\n",
      " [ 0.40824829  0.57735027  0.8035929 ]\n",
      " [-0.40824829 -0.57735027  0.52701162]]\n",
      "Собственные значения:  [3. 6. 3.]\n"
     ]
    }
   ],
   "source": [
    "e_vals, e_vecs = LA.eig(m2)\n",
    "print('Исходная матрица: \\n', m2)\n",
    "print('Собственные вектора: \\n', e_vecs)\n",
    "print('Собственные значения: ', e_vals)"
   ]
  }
 ],
 "metadata": {
  "kernelspec": {
   "display_name": "Python 3",
   "language": "python",
   "name": "python3"
  },
  "language_info": {
   "codemirror_mode": {
    "name": "ipython",
    "version": 3
   },
   "file_extension": ".py",
   "mimetype": "text/x-python",
   "name": "python",
   "nbconvert_exporter": "python",
   "pygments_lexer": "ipython3",
   "version": "3.7.6"
  }
 },
 "nbformat": 4,
 "nbformat_minor": 2
}
