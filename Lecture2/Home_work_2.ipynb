{
 "cells": [
  {
   "cell_type": "code",
   "execution_count": 47,
   "metadata": {},
   "outputs": [
    {
     "name": "stdout",
     "output_type": "stream",
     "text": [
      "qwerty\n",
      "er\n"
     ]
    }
   ],
   "source": [
    "word = input()\n",
    "length = len(word)\n",
    "if length % 2 == 0:\n",
    "    print(word[length//2-1:length//2+1])\n",
    "else:\n",
    "    print(word[length//2])\n",
    "    "
   ]
  },
  {
   "cell_type": "code",
   "execution_count": 43,
   "metadata": {},
   "outputs": [
    {
     "name": "stdout",
     "output_type": "stream",
     "text": [
      "Alex and Emma\n",
      "Arthur and Kate\n",
      "John and Kira\n",
      "Peter and Liza\n",
      "Richard and Trisha\n"
     ]
    }
   ],
   "source": [
    "boys = ['Peter', 'Alex', 'John', 'Arthur', 'Richard']\n",
    "girls = ['Kate', 'Liza', 'Kira', 'Emma', 'Trisha']\n",
    "boys.sort()\n",
    "girls.sort()\n",
    "if len(boys) == len(girls):\n",
    "#     print(list(zip(boys,girls)))\n",
    "    for two in list(zip(boys,girls)):\n",
    "        print(f\"{two[0]} and {two[1]}\")\n",
    "else:\n",
    "     print(\"Кто-то может остаться без пары!\")"
   ]
  },
  {
   "cell_type": "code",
   "execution_count": 56,
   "metadata": {},
   "outputs": [
    {
     "name": "stdout",
     "output_type": "stream",
     "text": [
      "The average temperature for a week in Thailand = 74.94\n",
      "The average temperature for a week in Germany = 56.69\n",
      "The average temperature for a week in Russia = 38.69\n",
      "The average temperature for a week in Poland = 53.34\n"
     ]
    }
   ],
   "source": [
    "countries_temperature = [\n",
    " ['Thailand', [75.2, 77, 78.8, 73.4, 68, 75.2, 77]],\n",
    " ['Germany', [57.2, 55.4, 59, 59, 53.6, 55.4, 57.2]],\n",
    " ['Russia', [35.6, 37.4, 39.2, 41, 42.8, 39.2, 35.6]],\n",
    " ['Poland', [50, 50, 53.6, 57.2, 55.4, 55.4, 51.8]],\n",
    "]\n",
    "for country in countries_temperature:\n",
    "        print(f\"The average temperature for a week in {country[0]} =\", end = ' ')\n",
    "        print(f\"{sum(country[1])/7:.2f}\")\n",
    "      "
   ]
  },
  {
   "cell_type": "code",
   "execution_count": 38,
   "metadata": {},
   "outputs": [
    {
     "name": "stdout",
     "output_type": "stream",
     "text": [
      "Отношение суммы всех просмотров к количеству уникальных пользователей = 23.25\n"
     ]
    }
   ],
   "source": [
    "import copy\n",
    "stream = [\n",
    "    '2018-01-01,user1,3',\n",
    "    '2018-01-07,user1,4',\n",
    "    '2018-03-29,user1,1',\n",
    "    '2018-04-04,user1,13',\n",
    "    '2018-01-05,user2,7',\n",
    "    '2018-06-14,user3,4',\n",
    "    '2018-07-02,user3,10',\n",
    "    '2018-03-21,user4,19',\n",
    "    '2018-03-22,user4,4',\n",
    "    '2018-04-22,user4,8',\n",
    "    '2018-05-03,user4,9',\n",
    "    '2018-05-11,user4,11',\n",
    "]\n",
    "\n",
    "stream1 = list() #Раздербанил на списки\n",
    "for user in stream:\n",
    "    user = user.split(',')\n",
    "    stream1.append(user)\n",
    "# print(stream1)\n",
    "\n",
    "summa = 0 #Считаю общую сумму\n",
    "for user in stream1:\n",
    "    summa += int(user[2])\n",
    "i = 1 \n",
    "user = stream1[0][1]\n",
    "\n",
    "for user1 in stream1: #Cчитаю кол-во уникальных пользователей\n",
    "    if user1[1] != user:\n",
    "        i += 1\n",
    "        user = user1[1]\n",
    "print(f\"Отношение суммы всех просмотров к количеству уникальных пользователей = {summa / i:.2f}\")\n",
    "\n"
   ]
  },
  {
   "cell_type": "code",
   "execution_count": 46,
   "metadata": {},
   "outputs": [
    {
     "name": "stdout",
     "output_type": "stream",
     "text": [
      "Введите дату в формате XXXX-YY-ZZZ: 2018-01-02\n",
      "Введите название компании: Yandex\n",
      "65\n"
     ]
    }
   ],
   "source": [
    "stats = [\n",
    "    ['2018-01-01', 'google', 25],\n",
    "    ['2018-01-01', 'yandex', 65],\n",
    "    ['2018-01-01', 'market', 89],\n",
    "    ['2018-01-02', 'google', 574],\n",
    "    ['2018-01-02', 'yandex', 249],\n",
    "    ['2018-01-02', 'market', 994],\n",
    "    ['2018-01-03', 'google', 1843],\n",
    "    ['2018-01-03', 'yandex', 1327],\n",
    "    ['2018-01-03', 'market', 1764],\n",
    "]\n",
    "data = input(\"Введите дату в формате XXXX-YY-ZZZ: \")\n",
    "company = input(\"Введите название компании: \").lower() \n",
    "flag = True\n",
    "for number in stats:\n",
    "    if flag:\n",
    "        if number[0] == data:\n",
    "            for number in stats:\n",
    "                if number[1] == company:\n",
    "                    print(number[2])\n",
    "                    flag = False\n",
    "                    break\n",
    "    else: break\n",
    "if flag:\n",
    "    print(\"Пара не найдена!\")    "
   ]
  },
  {
   "cell_type": "code",
   "execution_count": 51,
   "metadata": {},
   "outputs": [
    {
     "name": "stdout",
     "output_type": "stream",
     "text": [
      "Сумма диагональных элементов = 103\n"
     ]
    }
   ],
   "source": [
    "data = [\n",
    "    [13, 25, 23, 34],\n",
    "    [45, 32, 44, 47],\n",
    "    [12, 33, 23, 95],\n",
    "    [13, 53, 34, 35]\n",
    "]\n",
    "i = 0\n",
    "summa = 0\n",
    "for number in data:\n",
    "    summa += number[i]\n",
    "    i += 1\n",
    "print(f'Сумма диагональных элементов = {summa}')    \n"
   ]
  },
  {
   "cell_type": "code",
   "execution_count": null,
   "metadata": {},
   "outputs": [],
   "source": []
  }
 ],
 "metadata": {
  "kernelspec": {
   "display_name": "Python 3",
   "language": "python",
   "name": "python3"
  },
  "language_info": {
   "codemirror_mode": {
    "name": "ipython",
    "version": 3
   },
   "file_extension": ".py",
   "mimetype": "text/x-python",
   "name": "python",
   "nbconvert_exporter": "python",
   "pygments_lexer": "ipython3",
   "version": "3.7.6"
  }
 },
 "nbformat": 4,
 "nbformat_minor": 4
}
