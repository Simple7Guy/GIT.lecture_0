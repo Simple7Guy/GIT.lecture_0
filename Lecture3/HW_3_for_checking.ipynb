{
 "cells": [
  {
   "cell_type": "code",
   "execution_count": 1,
   "metadata": {},
   "outputs": [
    {
     "name": "stdout",
     "output_type": "stream",
     "text": [
      "[{'visit1': ['Москва', 'Россия']}, {'visit3': ['Владимир', 'Россия']}, {'visit7': ['Тула', 'Россия']}, {'visit8': ['Тула', 'Россия']}, {'visit9': ['Курск', 'Россия']}, {'visit10': ['Архангельск', 'Россия']}]\n"
     ]
    }
   ],
   "source": [
    "                                        #Вариант на сдачу задачи 1\n",
    "geo_logs = [                            \n",
    "    {'visit1': ['Москва', 'Россия']},\n",
    "    {'visit2': ['Дели', 'Индия']},\n",
    "    {'visit3': ['Владимир', 'Россия']},\n",
    "    {'visit4': ['Лиссабон', 'Португалия']},\n",
    "    {'visit5': ['Париж', 'Франция']},\n",
    "    {'visit6': ['Лиссабон', 'Португалия']},\n",
    "    {'visit7': ['Тула', 'Россия']},\n",
    "    {'visit8': ['Тула', 'Россия']},\n",
    "    {'visit9': ['Курск', 'Россия']},\n",
    "    {'visit10': ['Архангельск', 'Россия']}\n",
    "]\n",
    "i = 0\n",
    "while i < len(geo_logs):\n",
    "    country = list(geo_logs[i].values())\n",
    "    if country[0][1] != 'Россия':\n",
    "        del geo_logs[i]\n",
    "    else:\n",
    "        i += 1\n",
    "print(geo_logs) "
   ]
  },
  {
   "cell_type": "code",
   "execution_count": 3,
   "metadata": {},
   "outputs": [
    {
     "name": "stdout",
     "output_type": "stream",
     "text": [
      "[98, 35, 15, 213, 54, 119]\n"
     ]
    }
   ],
   "source": [
    "                                        #Вариант на сдачу задачи 2\n",
    "ids = {'user1': [213, 213, 213, 15, 213], \n",
    "       'user2': [54, 54, 119, 119, 119], \n",
    "       'user3': [213, 98, 98, 35]}\n",
    "\n",
    "only_ids = set()\n",
    "for id_n in ids.values():\n",
    "    only_ids.update(id_n)\n",
    "print(list(only_ids))"
   ]
  },
  {
   "cell_type": "code",
   "execution_count": 4,
   "metadata": {},
   "outputs": [
    {
     "name": "stdout",
     "output_type": "stream",
     "text": [
      "{'word_count_3': [57.14], 'word_count_2': [42.86]}\n"
     ]
    }
   ],
   "source": [
    "                                        #Вариант на сдачу задачи 3\n",
    "queries = [                               \n",
    "    'смотреть сериалы онлайн',\n",
    "    'новости спорта',\n",
    "    'афиша кино',\n",
    "    'курс доллара',\n",
    "    'сериалы этим летом',\n",
    "    'курс по питону',\n",
    "    'сериалы про спорт',\n",
    "]  \n",
    "\n",
    "all_request = {} \n",
    "len_queries = len(queries)\n",
    "for request in queries:\n",
    "    word_count = request.count(' ') + 1\n",
    "    if f'word_count_{word_count}' in all_request.keys():\n",
    "        all_request[f'word_count_{word_count}'][0] += 1\n",
    "    else:\n",
    "        all_request[f'word_count_{word_count}'] = [1]\n",
    "        \n",
    "for count in all_request.values():\n",
    "    count[0] = float(f'{count[0] / len_queries * 100:.2f}')\n",
    "    \n",
    "# for count_word, values in all_request.items():\n",
    "#     print(f'{count_word}: {values[0]}%')\n",
    "print(all_request)   "
   ]
  },
  {
   "cell_type": "code",
   "execution_count": 6,
   "metadata": {},
   "outputs": [
    {
     "name": "stdout",
     "output_type": "stream",
     "text": [
      "yandex\n"
     ]
    }
   ],
   "source": [
    "                                    #Вариант на сдачу задачи 4\n",
    "stats = {'facebook': 55, 'yandex': 120, 'vk': 115, 'google': 99, 'email': 42, 'ok': 98} \n",
    "print(max(stats, key = stats.get))"
   ]
  },
  {
   "cell_type": "code",
   "execution_count": 7,
   "metadata": {},
   "outputs": [
    {
     "name": "stdout",
     "output_type": "stream",
     "text": [
      "{'2018-01-01': {'yandex': {'cpc': 100}}}\n"
     ]
    }
   ],
   "source": [
    "                                    #Вариант на сдачу задачи 5\n",
    "first_list = ['2018-01-01', 'yandex', 'cpc', 100] \n",
    "book = first_list[-1]\n",
    "for var in first_list[-2: : -1]:\n",
    "    book = {var: book}\n",
    "print(book) "
   ]
  },
  {
   "cell_type": "code",
   "execution_count": null,
   "metadata": {},
   "outputs": [],
   "source": []
  }
 ],
 "metadata": {
  "kernelspec": {
   "display_name": "Python 3",
   "language": "python",
   "name": "python3"
  },
  "language_info": {
   "codemirror_mode": {
    "name": "ipython",
    "version": 3
   },
   "file_extension": ".py",
   "mimetype": "text/x-python",
   "name": "python",
   "nbconvert_exporter": "python",
   "pygments_lexer": "ipython3",
   "version": "3.7.6"
  }
 },
 "nbformat": 4,
 "nbformat_minor": 4
}
