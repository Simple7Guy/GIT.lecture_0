{
 "cells": [
  {
   "cell_type": "code",
   "execution_count": 133,
   "metadata": {},
   "outputs": [],
   "source": [
    "documents = [\n",
    "    {'type': 'passport', 'number': '2207 876234', 'name': 'Василий Гупкин'},\n",
    "    {'type': 'invoice', 'number': '11-2', 'name': 'Геннадий Покемонов'},\n",
    "    {'type': 'insurance', 'number': '10006', 'name': 'Аристарх Павлов'}\n",
    "]"
   ]
  },
  {
   "cell_type": "code",
   "execution_count": 134,
   "metadata": {},
   "outputs": [],
   "source": [
    "directories = {\n",
    "    '1': ['2207 876234', '11-2'],\n",
    "    '2': ['10006'],\n",
    "    '3': []\n",
    "}"
   ]
  },
  {
   "cell_type": "code",
   "execution_count": 135,
   "metadata": {},
   "outputs": [],
   "source": [
    "def document_owner(data_base_documents=documents):\n",
    "    documents_n = input('Введите номер документа: ')\n",
    "    for document in data_base_documents:\n",
    "        if documents_n == document['number']:\n",
    "            return(print(f\"Документ номер: {documents_n} принадлежит {document['name']} \"))\n",
    "    return(print('Номер документа не найдет'))"
   ]
  },
  {
   "cell_type": "code",
   "execution_count": 136,
   "metadata": {},
   "outputs": [],
   "source": [
    "def document_on_the_shelf(data_base_directories=directories):\n",
    "    documents_n = input('Введите номер документа: ')\n",
    "    for number_shelf, document in data_base_directories.items():\n",
    "        if documents_n in document:\n",
    "            return(print(f\"Документ номер: {documents_n} лежит на полке номер: {number_shelf} \"))\n",
    "    return(print('Номер документа не найдет'))"
   ]
  },
  {
   "cell_type": "code",
   "execution_count": 137,
   "metadata": {},
   "outputs": [],
   "source": [
    "def all_documents(data_base_documents=documents):\n",
    "    if data_base_documents:\n",
    "        for document in data_base_documents:\n",
    "            print(f\"{document['type']} {document['number']} {document['name']}\")\n",
    "    else:\n",
    "        return(print('База документов пуста!'))"
   ]
  },
  {
   "cell_type": "code",
   "execution_count": 138,
   "metadata": {},
   "outputs": [],
   "source": [
    "def new_shelf(data_base_directories=directories):\n",
    "    shelf_n = input('Введите номер полки: ')\n",
    "    if shelf_n.isdigit():\n",
    "        if shelf_n not in data_base_directories:\n",
    "            data_base_directories[f'{shelf_n}'] = []\n",
    "            return(print(f\"Вы добавили полку номер: {shelf_n}\"))\n",
    "        else:\n",
    "            return(print(f\"Полка с номером: {shelf_n} уже существует\"))\n",
    "    return(print(\"Номер полки должен быть натуральным числом!\"))"
   ]
  },
  {
   "cell_type": "code",
   "execution_count": 139,
   "metadata": {},
   "outputs": [],
   "source": [
    "def document_delete(document_n, data_base_documents=documents):\n",
    "    for i, document in enumerate(data_base_documents):\n",
    "        if document_n == document['number']:\n",
    "            del data_base_documents[i]\n",
    "            return(True)\n",
    "    return(False)"
   ]
  },
  {
   "cell_type": "code",
   "execution_count": 140,
   "metadata": {},
   "outputs": [],
   "source": [
    "def shelf_delete(document_n, data_base_directories=directories):\n",
    "    for document in data_base_directories.values():\n",
    "        if document_n in document:\n",
    "            document.remove(f'{document_n}')\n",
    "            return(print(f\"Документ номер: {document_n} успешно удален!\"))"
   ]
  },
  {
   "cell_type": "code",
   "execution_count": 141,
   "metadata": {},
   "outputs": [],
   "source": [
    "def move_a_document(document_n, data_base_directories=directories):\n",
    "    shelf_n = input(f'Введите номер полки, на которую переместить документ номер {document_n}: ')\n",
    "    if shelf_n in data_base_directories:\n",
    "        for number_shelf, document in data_base_directories.items():\n",
    "            if document_n in document:\n",
    "                document.remove(f'{document_n}')\n",
    "                data_base_directories[f'{shelf_n}'].append(document_n) \n",
    "                return(print(f\"Документ №{document_n} успешно перенесен на полку №{shelf_n}\"))\n",
    "        return(print(f\"Документ №{document_n} не найдет!\"))\n",
    "    else: \n",
    "        return(print(f\"Полка номер {shelf_n} не существует\"))        "
   ]
  },
  {
   "cell_type": "code",
   "execution_count": 142,
   "metadata": {},
   "outputs": [],
   "source": [
    "def add_document(data_base_documents=documents, data_base_directories=directories):\n",
    "    type_document = input('Введите тип документа: ')\n",
    "    document_n = input(f'Введите номер {type_document}: ')\n",
    "    name_owner = input(f'Введите ФИО владельца документа {document_n}: ')\n",
    "    shelf_n = input(f'Введите номер полки, на которую поместить {type_document} номер {document_n}: ')\n",
    "    new_people = {}\n",
    "    for check in data_base_documents:\n",
    "        check = list(check.values())\n",
    "        if check[0] == type_document and check[1] == document_n and check[2] == name_owner:\n",
    "            return(print(f\"Данный документ уже существует\"))\n",
    "    \n",
    "    if shelf_n in data_base_directories:\n",
    "        data_base_directories[f'{shelf_n}'].append(document_n)\n",
    "        new_people['type'] = type_document\n",
    "        new_people['number'] = document_n\n",
    "        new_people['name'] = name_owner\n",
    "        data_base_documents.append(new_people)\n",
    "        return(print(f\"Документ №: {document_n} успешно добавлен! \"))\n",
    "    else:\n",
    "        return(print(f\"Полка номер {shelf_n} не существует\"))"
   ]
  },
  {
   "cell_type": "code",
   "execution_count": 143,
   "metadata": {},
   "outputs": [],
   "source": [
    "def main():\n",
    "    print('---------------------------------------------------------------------------')\n",
    "    print('Доброго времени суток!')\n",
    "    print('В данном скрипте возможны следующие команды: ')\n",
    "    print('p - команда, которая спросит номер документа и выведет имя человека, которому он принадлежит')\n",
    "    print('s – команда, которая спросит номер документа и выведет номер полки, на которой он находится')\n",
    "    print('l – команда, которая выведет список всех документов')\n",
    "    print('as – команда, которая спросит номер новой полки и добавит ее в перечень')\n",
    "    print('d – команда, которая спросит номер документа и удалит его из каталога и из перечня полок. ')\n",
    "    print('m – команда, которая спросит номер документа и целевую полку и переместит его с текущей полки на целевую.')\n",
    "    print('a – команда, которая добавит новый документ в каталог и в перечень полок, спросив его номер, тип, имя владельца и номер полки, на котором он будет храниться.')\n",
    "    print('e - Выход')\n",
    "    print('---------------------------------------------------------------------------')\n",
    "    while True:\n",
    "        user_input = input('Введите команду: ')\n",
    "        if user_input =='p':\n",
    "            document_owner()\n",
    "        elif user_input =='s':\n",
    "            document_on_the_shelf()\n",
    "        elif user_input =='l':\n",
    "            all_documents()\n",
    "        elif user_input =='as':\n",
    "            new_shelf()\n",
    "        elif user_input =='d':\n",
    "            document_n = input('Введите номер документа: ')\n",
    "            if document_delete(document_n):\n",
    "                shelf_delete(document_n)\n",
    "            else:\n",
    "                print(f'Номер документа: {document_n} не найдет')\n",
    "        elif user_input =='m':\n",
    "            document_n = input('Введите номер документа: ')\n",
    "            move_a_document(document_n)\n",
    "        elif user_input =='a':\n",
    "            add_document()\n",
    "        elif user_input =='e':\n",
    "            print('До новых встреч! :)')\n",
    "            break\n",
    "        else:\n",
    "            print('Такой команды нет :(')\n",
    "             "
   ]
  },
  {
   "cell_type": "code",
   "execution_count": 144,
   "metadata": {},
   "outputs": [
    {
     "name": "stdout",
     "output_type": "stream",
     "text": [
      "---------------------------------------------------------------------------\n",
      "Доброго времени суток!\n",
      "В данном скрипте возможны следующие команды: \n",
      "p - команда, которая спросит номер документа и выведет имя человека, которому он принадлежит\n",
      "s – команда, которая спросит номер документа и выведет номер полки, на которой он находится\n",
      "l – команда, которая выведет список всех документов\n",
      "as – команда, которая спросит номер новой полки и добавит ее в перечень\n",
      "d – команда, которая спросит номер документа и удалит его из каталога и из перечня полок. \n",
      "m – команда, которая спросит номер документа и целевую полку и переместит его с текущей полки на целевую.\n",
      "a – команда, которая добавит новый документ в каталог и в перечень полок, спросив его номер, тип, имя владельца и номер полки, на котором он будет храниться.\n",
      "e - Выход\n",
      "---------------------------------------------------------------------------\n",
      "Введите команду: e\n",
      "До новых встреч! :)\n"
     ]
    }
   ],
   "source": [
    "main()"
   ]
  },
  {
   "cell_type": "code",
   "execution_count": 132,
   "metadata": {},
   "outputs": [
    {
     "name": "stdout",
     "output_type": "stream",
     "text": [
      "{'1': ['2207 876234', '11-2', '10006'], '2': [], '3': []}\n"
     ]
    }
   ],
   "source": [
    "print(directories)"
   ]
  }
 ],
 "metadata": {
  "kernelspec": {
   "display_name": "Python 3",
   "language": "python",
   "name": "python3"
  },
  "language_info": {
   "codemirror_mode": {
    "name": "ipython",
    "version": 3
   },
   "file_extension": ".py",
   "mimetype": "text/x-python",
   "name": "python",
   "nbconvert_exporter": "python",
   "pygments_lexer": "ipython3",
   "version": "3.7.6"
  }
 },
 "nbformat": 4,
 "nbformat_minor": 4
}
