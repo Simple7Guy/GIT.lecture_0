{
 "cells": [
  {
   "cell_type": "code",
   "execution_count": 6,
   "metadata": {},
   "outputs": [],
   "source": [
    "import json\n",
    "def find_keys_word(line):\n",
    "    line = json.loads(line.strip())\n",
    "    help_list = []\n",
    "    for word in line.keys():\n",
    "        help_list.append(word)\n",
    "    return(help_list)  "
   ]
  },
  {
   "cell_type": "code",
   "execution_count": 7,
   "metadata": {},
   "outputs": [],
   "source": [
    "#Сдача 1 части \n",
    "purchases = {}\n",
    "with open('purchase_log.txt', 'r') as f:\n",
    "    line = f.readline()\n",
    "    keys = find_keys_word(line)\n",
    "#     print(keys)\n",
    "    for line in f.readlines():\n",
    "        line = json.loads(line.strip())\n",
    "        purchases[f\"{line['user_id']}\"] = f\"{line['category']}\"\n",
    "# for line in purchases.items():\n",
    "#     print(line)"
   ]
  },
  {
   "cell_type": "code",
   "execution_count": 8,
   "metadata": {},
   "outputs": [],
   "source": [
    "#Сдача 2 части \n",
    "with open('visit_log.csv', 'r') as visit_log:\n",
    "    with open('funnel.csv', 'w') as funnel:\n",
    "        name_column = visit_log.readline().strip().split(',')\n",
    "        name_column.append(keys[1]) \n",
    "        funnel.write(f\"{','.join(name_column)}\\n\")\n",
    "        for i, line in enumerate(visit_log):\n",
    "#             if i > 5:\n",
    "#                 break\n",
    "            values = line.strip().split(',')\n",
    "            if values[0] in purchases.keys():\n",
    "                if  purchases[f\"{values[0]}\"] != 'не определена':\n",
    "                    values.append(purchases[f\"{values[0]}\"])\n",
    "                    funnel.write(f\"{','.join(values)}\\n\")"
   ]
  }
 ],
 "metadata": {
  "kernelspec": {
   "display_name": "Python 3",
   "language": "python",
   "name": "python3"
  },
  "language_info": {
   "codemirror_mode": {
    "name": "ipython",
    "version": 3
   },
   "file_extension": ".py",
   "mimetype": "text/x-python",
   "name": "python",
   "nbconvert_exporter": "python",
   "pygments_lexer": "ipython3",
   "version": "3.7.6"
  }
 },
 "nbformat": 4,
 "nbformat_minor": 4
}
