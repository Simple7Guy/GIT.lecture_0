{
 "cells": [
  {
   "cell_type": "code",
   "execution_count": 396,
   "metadata": {},
   "outputs": [],
   "source": [
    "data = [1, 7, 17, 23, 27, 29, 35, 65]\n",
    "n = 20"
   ]
  },
  {
   "cell_type": "code",
   "execution_count": 397,
   "metadata": {},
   "outputs": [],
   "source": [
    "def binary_search(list_object, item):\n",
    "    i = 0\n",
    "    low = 0\n",
    "    high = len(list_object) - 1\n",
    "    while low <= high:\n",
    "        mid = (low + high) // 2\n",
    "        guess = list_object[mid]\n",
    "#         print(i, mid)\n",
    "        if guess == item:\n",
    "            return list_object[mid]\n",
    "        if guess > item:\n",
    "            high = mid - 1\n",
    "            fl = 1\n",
    "#             print(high, 'h')\n",
    "        else:\n",
    "            low = mid + 1\n",
    "            fl = 0\n",
    "#             print(low, 'l')\n",
    "        i += 1\n",
    "    try:\n",
    "        if fl:\n",
    "            return(difference(list_object[mid], list_object[high], n))\n",
    "        else:\n",
    "            return(difference(list_object[low], list_object[mid], n))\n",
    "    except:  \n",
    "        if low > len(list_object) - 1:\n",
    "            return(list_object[-1])\n",
    "        elif high < 0:\n",
    "            return(list_object[0])"
   ]
  },
  {
   "cell_type": "code",
   "execution_count": 398,
   "metadata": {},
   "outputs": [],
   "source": [
    "def difference(high, low, real):\n",
    "#     print(high, low, real)\n",
    "    if abs(high - real) < abs(low - real):\n",
    "        return(high)\n",
    "    return(low)"
   ]
  },
  {
   "cell_type": "code",
   "execution_count": 399,
   "metadata": {},
   "outputs": [
    {
     "name": "stdout",
     "output_type": "stream",
     "text": [
      "17\n"
     ]
    }
   ],
   "source": [
    "try:\n",
    "    print(binary_search(data, n))\n",
    "except:\n",
    "    print('Неверный формат ввода возраста')"
   ]
  },
  {
   "cell_type": "code",
   "execution_count": 400,
   "metadata": {},
   "outputs": [],
   "source": [
    "ages = {\n",
    "    1: 'дети',\n",
    "    7: 'школьники',\n",
    "    17: 'студенты',\n",
    "    23: 'аспиранты',\n",
    "    27: 'молодые ученые',\n",
    "    35: 'преподаватели',\n",
    "    65: 'пенсионеры',\n",
    "}"
   ]
  },
  {
   "cell_type": "code",
   "execution_count": 401,
   "metadata": {},
   "outputs": [],
   "source": [
    "def main():\n",
    "    print(ages[binary_search(data, n)])"
   ]
  },
  {
   "cell_type": "code",
   "execution_count": 402,
   "metadata": {},
   "outputs": [
    {
     "name": "stdout",
     "output_type": "stream",
     "text": [
      "студенты\n"
     ]
    }
   ],
   "source": [
    "main()"
   ]
  },
  {
   "cell_type": "code",
   "execution_count": 395,
   "metadata": {},
   "outputs": [
    {
     "ename": "SyntaxError",
     "evalue": "unexpected EOF while parsing (<ipython-input-395-7bd16f53f706>, line 3)",
     "output_type": "error",
     "traceback": [
      "\u001b[0;36m  File \u001b[0;32m\"<ipython-input-395-7bd16f53f706>\"\u001b[0;36m, line \u001b[0;32m3\u001b[0m\n\u001b[0;31m    #потом достаем по строчке и сверяем со словарем age. Добавляем класс и записываем в файл final_list\u001b[0m\n\u001b[0m                                                                                                       ^\u001b[0m\n\u001b[0;31mSyntaxError\u001b[0m\u001b[0;31m:\u001b[0m unexpected EOF while parsing\n"
     ]
    }
   ],
   "source": [
    "age = {}\n",
    "for i in range(1,101):\n",
    "    if (i >= 0) and (i <= 4):\n",
    "        age[i] = 'дети'\n",
    "    elif i <= 12:\n",
    "        age[i] = 'школьники'\n",
    "    elif i <= 20:\n",
    "        age[i] = 'студенты'\n",
    "    elif i <= 25:\n",
    "        age[i] = 'аспиранты'\n",
    "    elif i <= 31:\n",
    "        age[i] = 'молодые ученые'\n",
    "    elif i <= 55:\n",
    "        age[i] = 'преподаватели'\n",
    "    elif (i > 55) and (i <= 100):\n",
    "        age[i] = 'пенсионеры'\n",
    "with open('source_list', 'r') as source_list:\n",
    "    with open('final_list', 'w') as final_list:\n",
    "         #потом достаем по строчке и сверяем со словарем age. Добавляем класс и записываем в файл final_list"
   ]
  },
  {
   "cell_type": "code",
   "execution_count": 62,
   "metadata": {},
   "outputs": [],
   "source": [
    "# Задача 1\n",
    "from datetime import datetime\n",
    "from datetime import timedelta\n",
    "def date_range_1(start_date, end_date):\n",
    "    date = []\n",
    "    current_date = start_date\n",
    "    end_date = datetime.strptime(end_date, '%Y-%m-%d')\n",
    "    end_date -= timedelta(days=1)\n",
    "    end_date = end_date.strftime('%Y-%m-%d')\n",
    "    while current_date < end_date:\n",
    "        current_date = datetime.strptime(current_date, '%Y-%m-%d')\n",
    "        current_date += timedelta(days=1)\n",
    "        current_date = current_date.strftime('%Y-%m-%d')\n",
    "        date.append(current_date)\n",
    "    return(date)"
   ]
  },
  {
   "cell_type": "code",
   "execution_count": 63,
   "metadata": {},
   "outputs": [
    {
     "name": "stdout",
     "output_type": "stream",
     "text": [
      "Введите первую дату 234\n",
      "Введите вторую дату 512\n",
      "Даты должны вводиться в формате YYYY-MM-DD\n"
     ]
    }
   ],
   "source": [
    "# date_range('2018-12-01', '2019-04-02')\n",
    "start_date = input('Введите первую дату ')\n",
    "end_date = input('Введите вторую дату ')\n",
    "try:\n",
    "    if start_date < end_date:\n",
    "        print(date_range_1(start_date, end_date))\n",
    "    else:\n",
    "        print(date_range_1(end_date, start_date))\n",
    "except:\n",
    "    print('Даты должны вводиться в формате YYYY-MM-DD')"
   ]
  },
  {
   "cell_type": "code",
   "execution_count": 64,
   "metadata": {},
   "outputs": [],
   "source": [
    "# Задача 2\n",
    "from datetime import datetime\n",
    "from datetime import timedelta\n",
    "def date_range_2(start_date, end_date):\n",
    "    date = []\n",
    "    try:\n",
    "        current_date = start_date\n",
    "        end_date = datetime.strptime(end_date, '%Y-%m-%d')\n",
    "        end_date -= timedelta(days=1)\n",
    "        end_date = end_date.strftime('%Y-%m-%d')\n",
    "        while current_date < end_date:\n",
    "            current_date = datetime.strptime(current_date, '%Y-%m-%d')\n",
    "            current_date += timedelta(days=1)\n",
    "            current_date = current_date.strftime('%Y-%m-%d')\n",
    "            date.append(current_date)\n",
    "    except:\n",
    "        pass\n",
    "    return(date)"
   ]
  },
  {
   "cell_type": "code",
   "execution_count": 65,
   "metadata": {},
   "outputs": [
    {
     "name": "stdout",
     "output_type": "stream",
     "text": [
      "Введите первую дату 2019-04-02\n",
      "Введите вторую дату 2018-12-01\n",
      "[]\n"
     ]
    }
   ],
   "source": [
    "start_date = input('Введите первую дату ')\n",
    "end_date = input('Введите вторую дату ')\n",
    "print(date_range_2(start_date, end_date))"
   ]
  },
  {
   "cell_type": "code",
   "execution_count": 106,
   "metadata": {},
   "outputs": [],
   "source": [
    "#Задача 3\n",
    "import calendar\n",
    "from datetime import datetime\n",
    "from datetime import timedelta\n",
    "def correct(date):\n",
    "    date = date.split('-')\n",
    "    if '0000' <= date[0] and date[0] <= '9999':\n",
    "        if int(date[1]) >= 1 and int(date[1]) <= 12:\n",
    "            if int(date[2]) >= 1 and int(date[1]) <= calendar.monthrange(int(date[0]), int(date[1]))[1]:\n",
    "                return True\n",
    "    return False"
   ]
  },
  {
   "cell_type": "code",
   "execution_count": 107,
   "metadata": {},
   "outputs": [
    {
     "name": "stdout",
     "output_type": "stream",
     "text": [
      "True\n",
      "True\n",
      "False\n"
     ]
    }
   ],
   "source": [
    "stream = [ '2018-04-02', '2018-02-29', '2018-19-02']\n",
    "for date in stream:\n",
    "    print(correct(date))"
   ]
  },
  {
   "cell_type": "markdown",
   "metadata": {},
   "source": [
    "1) Что значит ошибка list index out of range? индекс списка вне диапазона\n",
    "2) Вначале идексы [0, 1, 2]. После 1 прогона delete_and_return_last_user -> [0, 1] Во время второго прогона в return происходит обращение по индексу 1, а в default_list остался один элемент."
   ]
  },
  {
   "cell_type": "code",
   "execution_count": 138,
   "metadata": {},
   "outputs": [],
   "source": [
    "DEFAULT_USER_COUNT = 3\n",
    "def delete_and_return_last_user(region, default_list):\n",
    "    \"\"\"\n",
    "    Удаляет из списка default_list последнего пользователя\n",
    "    и возвращает ID нового последнего пользователя.\n",
    "    \"\"\"\n",
    "    element_to_delete = default_list[-1]\n",
    "    default_list.remove(element_to_delete)\n",
    "#     print(DEFAULT_USER_COUNT-2)\n",
    "    return default_list[DEFAULT_USER_COUNT-2]"
   ]
  },
  {
   "cell_type": "code",
   "execution_count": 142,
   "metadata": {},
   "outputs": [],
   "source": [
    "dt = ['A100', 'A101', 'A102']\n"
   ]
  },
  {
   "cell_type": "code",
   "execution_count": 144,
   "metadata": {},
   "outputs": [
    {
     "ename": "IndexError",
     "evalue": "list index out of range",
     "output_type": "error",
     "traceback": [
      "\u001b[0;31m---------------------------------------------------------------------------\u001b[0m",
      "\u001b[0;31mIndexError\u001b[0m                                Traceback (most recent call last)",
      "\u001b[0;32m<ipython-input-144-27e078dd9960>\u001b[0m in \u001b[0;36m<module>\u001b[0;34m\u001b[0m\n\u001b[0;32m----> 1\u001b[0;31m \u001b[0mdelete_and_return_last_user\u001b[0m\u001b[0;34m(\u001b[0m\u001b[0;36m0\u001b[0m\u001b[0;34m,\u001b[0m \u001b[0mdt\u001b[0m\u001b[0;34m)\u001b[0m\u001b[0;34m\u001b[0m\u001b[0;34m\u001b[0m\u001b[0m\n\u001b[0m\u001b[1;32m      2\u001b[0m \u001b[0mprint\u001b[0m\u001b[0;34m(\u001b[0m\u001b[0mdt\u001b[0m\u001b[0;34m)\u001b[0m\u001b[0;34m\u001b[0m\u001b[0;34m\u001b[0m\u001b[0m\n",
      "\u001b[0;32m<ipython-input-138-cc4760a8ecab>\u001b[0m in \u001b[0;36mdelete_and_return_last_user\u001b[0;34m(region, default_list)\u001b[0m\n\u001b[1;32m      8\u001b[0m     \u001b[0mdefault_list\u001b[0m\u001b[0;34m.\u001b[0m\u001b[0mremove\u001b[0m\u001b[0;34m(\u001b[0m\u001b[0melement_to_delete\u001b[0m\u001b[0;34m)\u001b[0m\u001b[0;34m\u001b[0m\u001b[0;34m\u001b[0m\u001b[0m\n\u001b[1;32m      9\u001b[0m \u001b[0;31m#     print(DEFAULT_USER_COUNT-2)\u001b[0m\u001b[0;34m\u001b[0m\u001b[0;34m\u001b[0m\u001b[0;34m\u001b[0m\u001b[0m\n\u001b[0;32m---> 10\u001b[0;31m     \u001b[0;32mreturn\u001b[0m \u001b[0mdefault_list\u001b[0m\u001b[0;34m[\u001b[0m\u001b[0mDEFAULT_USER_COUNT\u001b[0m\u001b[0;34m-\u001b[0m\u001b[0;36m2\u001b[0m\u001b[0;34m]\u001b[0m\u001b[0;34m\u001b[0m\u001b[0;34m\u001b[0m\u001b[0m\n\u001b[0m",
      "\u001b[0;31mIndexError\u001b[0m: list index out of range"
     ]
    }
   ],
   "source": [
    "delete_and_return_last_user(0, dt)\n",
    "print(dt)"
   ]
  },
  {
   "cell_type": "code",
   "execution_count": null,
   "metadata": {},
   "outputs": [],
   "source": []
  }
 ],
 "metadata": {
  "kernelspec": {
   "display_name": "Python 3",
   "language": "python",
   "name": "python3"
  },
  "language_info": {
   "codemirror_mode": {
    "name": "ipython",
    "version": 3
   },
   "file_extension": ".py",
   "mimetype": "text/x-python",
   "name": "python",
   "nbconvert_exporter": "python",
   "pygments_lexer": "ipython3",
   "version": "3.7.6"
  }
 },
 "nbformat": 4,
 "nbformat_minor": 4
}
