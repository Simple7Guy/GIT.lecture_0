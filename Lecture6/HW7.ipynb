{
 "cells": [
  {
   "cell_type": "code",
   "execution_count": 396,
   "metadata": {},
   "outputs": [],
   "source": [
    "data = [1, 7, 17, 23, 27, 29, 35, 65]\n",
    "n = 20"
   ]
  },
  {
   "cell_type": "code",
   "execution_count": 397,
   "metadata": {},
   "outputs": [],
   "source": [
    "def binary_search(list_object, item):\n",
    "    i = 0\n",
    "    low = 0\n",
    "    high = len(list_object) - 1\n",
    "    while low <= high:\n",
    "        mid = (low + high) // 2\n",
    "        guess = list_object[mid]\n",
    "#         print(i, mid)\n",
    "        if guess == item:\n",
    "            return list_object[mid]\n",
    "        if guess > item:\n",
    "            high = mid - 1\n",
    "            fl = 1\n",
    "#             print(high, 'h')\n",
    "        else:\n",
    "            low = mid + 1\n",
    "            fl = 0\n",
    "#             print(low, 'l')\n",
    "        i += 1\n",
    "    try:\n",
    "        if fl:\n",
    "            return(difference(list_object[mid], list_object[high], n))\n",
    "        else:\n",
    "            return(difference(list_object[low], list_object[mid], n))\n",
    "    except:  \n",
    "        if low > len(list_object) - 1:\n",
    "            return(list_object[-1])\n",
    "        elif high < 0:\n",
    "            return(list_object[0])"
   ]
  },
  {
   "cell_type": "code",
   "execution_count": 398,
   "metadata": {},
   "outputs": [],
   "source": [
    "def difference(high, low, real):\n",
    "#     print(high, low, real)\n",
    "    if abs(high - real) < abs(low - real):\n",
    "        return(high)\n",
    "    return(low)"
   ]
  },
  {
   "cell_type": "code",
   "execution_count": 399,
   "metadata": {},
   "outputs": [
    {
     "name": "stdout",
     "output_type": "stream",
     "text": [
      "17\n"
     ]
    }
   ],
   "source": [
    "try:\n",
    "    print(binary_search(data, n))\n",
    "except:\n",
    "    print('Неверный формат ввода возраста')"
   ]
  },
  {
   "cell_type": "code",
   "execution_count": 400,
   "metadata": {},
   "outputs": [],
   "source": [
    "ages = {\n",
    "    1: 'дети',\n",
    "    7: 'школьники',\n",
    "    17: 'студенты',\n",
    "    23: 'аспиранты',\n",
    "    27: 'молодые ученые',\n",
    "    35: 'преподаватели',\n",
    "    65: 'пенсионеры',\n",
    "}"
   ]
  },
  {
   "cell_type": "code",
   "execution_count": 401,
   "metadata": {},
   "outputs": [],
   "source": [
    "def main():\n",
    "    print(ages[binary_search(data, n)])"
   ]
  },
  {
   "cell_type": "code",
   "execution_count": 402,
   "metadata": {},
   "outputs": [
    {
     "name": "stdout",
     "output_type": "stream",
     "text": [
      "студенты\n"
     ]
    }
   ],
   "source": [
    "main()"
   ]
  },
  {
   "cell_type": "code",
   "execution_count": 395,
   "metadata": {},
   "outputs": [
    {
     "ename": "SyntaxError",
     "evalue": "unexpected EOF while parsing (<ipython-input-395-7bd16f53f706>, line 3)",
     "output_type": "error",
     "traceback": [
      "\u001b[0;36m  File \u001b[0;32m\"<ipython-input-395-7bd16f53f706>\"\u001b[0;36m, line \u001b[0;32m3\u001b[0m\n\u001b[0;31m    #потом достаем по строчке и сверяем со словарем age. Добавляем класс и записываем в файл final_list\u001b[0m\n\u001b[0m                                                                                                       ^\u001b[0m\n\u001b[0;31mSyntaxError\u001b[0m\u001b[0;31m:\u001b[0m unexpected EOF while parsing\n"
     ]
    }
   ],
   "source": [
    "age = {}\n",
    "for i in range(1,101):\n",
    "    if (i >= 0) and (i <= 4):\n",
    "        age[i] = 'дети'\n",
    "    elif i <= 12:\n",
    "        age[i] = 'школьники'\n",
    "    elif i <= 20:\n",
    "        age[i] = 'студенты'\n",
    "    elif i <= 25:\n",
    "        age[i] = 'аспиранты'\n",
    "    elif i <= 31:\n",
    "        age[i] = 'молодые ученые'\n",
    "    elif i <= 55:\n",
    "        age[i] = 'преподаватели'\n",
    "    elif (i > 55) and (i <= 100):\n",
    "        age[i] = 'пенсионеры'\n",
    "with open('source_list', 'r') as source_list:\n",
    "    with open('final_list', 'w') as final_list:\n",
    "         #потом достаем по строчке и сверяем со словарем age. Добавляем класс и записываем в файл final_list"
   ]
  }
 ],
 "metadata": {
  "kernelspec": {
   "display_name": "Python 3",
   "language": "python",
   "name": "python3"
  },
  "language_info": {
   "codemirror_mode": {
    "name": "ipython",
    "version": 3
   },
   "file_extension": ".py",
   "mimetype": "text/x-python",
   "name": "python",
   "nbconvert_exporter": "python",
   "pygments_lexer": "ipython3",
   "version": "3.7.6"
  }
 },
 "nbformat": 4,
 "nbformat_minor": 4
}
