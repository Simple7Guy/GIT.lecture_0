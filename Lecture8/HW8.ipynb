{
 "cells": [
  {
   "cell_type": "code",
   "execution_count": 1,
   "metadata": {},
   "outputs": [],
   "source": [
    "# Сдача 1 и 2 задания\n",
    "from libs.exchange import Rate"
   ]
  },
  {
   "cell_type": "code",
   "execution_count": 240,
   "metadata": {},
   "outputs": [],
   "source": [
    "class UpRate(Rate):\n",
    "    def __init__(self):\n",
    "        super().__init__(format1='full')\n",
    "    def name(self):\n",
    "        self.max_value = max(self.exchange_rates().items(), key = lambda i: i[1].get('Value'))\n",
    "        print(f\"{self.max_value[1]['Name']} = {self.max_value[1]['Value']}\")\n",
    "    def delta(self, currency):\n",
    "        info_cash = self.make_format(currency)\n",
    "        return info_cash['Value'] - info_cash['Previous']\n",
    "    def eur(self, diff=False):\n",
    "        if diff:\n",
    "            return self.delta('EUR')\n",
    "        return self.make_format('EUR') \n",
    "    def usd(self, diff=False):\n",
    "        if diff:\n",
    "            return self.delta('USD')\n",
    "        return self.make_format('USD')"
   ]
  },
  {
   "cell_type": "code",
   "execution_count": 241,
   "metadata": {},
   "outputs": [
    {
     "name": "stdout",
     "output_type": "stream",
     "text": [
      "СДР (специальные права заимствования) = 100.2031\n",
      "0.3380999999999972\n",
      "{'ID': 'R01235', 'NumCode': '840', 'CharCode': 'USD', 'Nominal': 1, 'Name': 'Доллар США', 'Value': 73.5819, 'Previous': 73.4326}\n"
     ]
    }
   ],
   "source": [
    "up = UpRate()\n",
    "up.name()\n",
    "print(up.eur(True))\n",
    "print(up.usd())"
   ]
  },
  {
   "cell_type": "code",
   "execution_count": 242,
   "metadata": {},
   "outputs": [],
   "source": [
    "# Сдача 3 задания\n",
    "class Employee:\n",
    "    def __init__(self, name, seniority):\n",
    "        self.name = name\n",
    "        self.seniority = seniority\n",
    "        \n",
    "        self.grade = 1\n",
    "    \n",
    "    def grade_up(self):\n",
    "        \"\"\"Повышает уровень сотрудника\"\"\"\n",
    "        self.grade += 1\n",
    "    \n",
    "    def publish_grade(self):\n",
    "        \"\"\"Публикация результатов аккредитации сотрудников\"\"\"\n",
    "        print(self.name, self.grade)\n",
    "    \n",
    "    def check_if_it_is_time_for_upgrade(self):\n",
    "        pass"
   ]
  },
  {
   "cell_type": "code",
   "execution_count": 252,
   "metadata": {},
   "outputs": [],
   "source": [
    "class Designer(Employee):\n",
    "    def __init__(self, name, seniority, awards):\n",
    "        seniority += 2 * awards\n",
    "        super().__init__(name, seniority)\n",
    "    \n",
    "    def check_if_it_is_time_for_upgrade(self):\n",
    "        \n",
    "        # для каждой аккредитации увеличиваем счетчик на 1\n",
    "        # пока считаем, что все разработчики проходят аккредитацию\n",
    "        print(self.seniority)\n",
    "        self.seniority += 1\n",
    "        # условие повышения сотрудника из презентации\n",
    "        if self.seniority % 7 == 0:\n",
    "            self.grade_up()\n",
    "        \n",
    "        # публикация результатов\n",
    "        return self.publish_grade()"
   ]
  },
  {
   "cell_type": "code",
   "execution_count": 251,
   "metadata": {},
   "outputs": [
    {
     "name": "stdout",
     "output_type": "stream",
     "text": [
      "5\n",
      "Елена 1\n",
      "6\n",
      "Елена 1\n",
      "7\n",
      "Елена 2\n",
      "8\n",
      "Елена 2\n",
      "9\n",
      "Елена 2\n",
      "10\n",
      "Елена 2\n",
      "11\n",
      "Елена 2\n",
      "12\n",
      "Елена 2\n",
      "13\n",
      "Елена 2\n",
      "14\n",
      "Елена 3\n",
      "15\n",
      "Елена 3\n",
      "16\n",
      "Елена 3\n",
      "17\n",
      "Елена 3\n",
      "18\n",
      "Елена 3\n",
      "19\n",
      "Елена 3\n",
      "20\n",
      "Елена 3\n",
      "21\n",
      "Елена 4\n",
      "22\n",
      "Елена 4\n",
      "23\n",
      "Елена 4\n",
      "24\n",
      "Елена 4\n"
     ]
    }
   ],
   "source": [
    "elena = Designer('Елена', seniority=0, awards=2)\n",
    "for i in range(20):\n",
    "    elena.check_if_it_is_time_for_upgrade()"
   ]
  }
 ],
 "metadata": {
  "kernelspec": {
   "display_name": "Python 3",
   "language": "python",
   "name": "python3"
  },
  "language_info": {
   "codemirror_mode": {
    "name": "ipython",
    "version": 3
   },
   "file_extension": ".py",
   "mimetype": "text/x-python",
   "name": "python",
   "nbconvert_exporter": "python",
   "pygments_lexer": "ipython3",
   "version": "3.7.6"
  }
 },
 "nbformat": 4,
 "nbformat_minor": 4
}
