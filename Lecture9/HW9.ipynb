{
 "cells": [
  {
   "cell_type": "code",
   "execution_count": 200,
   "metadata": {},
   "outputs": [],
   "source": [
    "#Задача 1\n",
    "import re\n",
    "def cars_number(line):\n",
    "    pattern_1 = '[А|В|Е|К|М|Н|О|Р|С|Т|У|Х]'\n",
    "    pattern_2 = '\\d{3}'\n",
    "    pattern_3 = '\\d{2,3}$'\n",
    "    sign = re.findall(fr'({pattern_1})({pattern_2})({pattern_1}{pattern_1})({pattern_3})', line)\n",
    "    if sign:\n",
    "        print(f\"номер = {sign[0][1]}, регион = {sign[0][-1]}\")\n",
    "    else:\n",
    "        print('Номер неправильный')"
   ]
  },
  {
   "cell_type": "code",
   "execution_count": 201,
   "metadata": {},
   "outputs": [
    {
     "name": "stdout",
     "output_type": "stream",
     "text": [
      "номер = 000, регион = 963\n",
      "номер = 020, регион = 73\n",
      "Номер неправильный\n",
      "Номер неправильный\n"
     ]
    }
   ],
   "source": [
    "cars_number('А000АА963')\n",
    "cars_number('А020АВ73')\n",
    "cars_number('цук000АА963')\n",
    "cars_number('А000АА9634')"
   ]
  },
  {
   "cell_type": "code",
   "execution_count": 36,
   "metadata": {},
   "outputs": [],
   "source": [
    "#Задача 2\n",
    "import re\n",
    "def check_email(line):\n",
    "    pattern = r'^[a-z0-9_-]{4,}@[a-z0-9-]{2,}\\.[a-z]{2,4}$'\n",
    "    check = re.findall(pattern, line.lower())\n",
    "    return check"
   ]
  },
  {
   "cell_type": "code",
   "execution_count": 44,
   "metadata": {},
   "outputs": [
    {
     "name": "stdout",
     "output_type": "stream",
     "text": [
      "['csogqw@awrq.ru']\n",
      "[]\n"
     ]
    }
   ],
   "source": [
    "print(check_email('Csogqw@awrq.ru'))\n",
    "print(check_email('Csogqw@awrqru'))"
   ]
  },
  {
   "cell_type": "code",
   "execution_count": 380,
   "metadata": {},
   "outputs": [
    {
     "data": {
      "text/plain": [
       "'шел пришел шел гулялии гуляли и гуляю '"
      ]
     },
     "execution_count": 380,
     "metadata": {},
     "output_type": "execute_result"
    }
   ],
   "source": [
    "#Задача 3\n",
    "import re\n",
    "def del_word(line):\n",
    "    return re.sub(r'(\\b\\w+\\s*)(?=\\1)', '', line)\n",
    "#     return re.sub(r'(\\b\\w+)(\\s*\\1)+', r'\\1', line)\n",
    "del_word('шелшел пришел шел шел шел шел гулялии гуляли и и гуляю гуляю ')\n",
    "# del_word('шелшел шел пришел шел шел шел гулял гулял и и гуляю гуляю.')"
   ]
  },
  {
   "cell_type": "code",
   "execution_count": 101,
   "metadata": {},
   "outputs": [],
   "source": [
    "#Задача 4\n",
    "import re\n",
    "def check_phone(line):\n",
    "    pattern = r'^(\\s*)?(\\+)?([- _():=+]?\\d[- _():=+]?){10,14}(\\s*)?$'\n",
    "    if re.findall(pattern, line):\n",
    "        return True\n",
    "    return False"
   ]
  },
  {
   "cell_type": "code",
   "execution_count": 77,
   "metadata": {},
   "outputs": [
    {
     "name": "stdout",
     "output_type": "stream",
     "text": [
      "True\n",
      "True\n",
      "True\n",
      "True\n",
      "True\n",
      "True\n",
      "False\n"
     ]
    }
   ],
   "source": [
    "print(check_phone('+7 955 555-55-55'))\n",
    "print(check_phone('9555555555'))\n",
    "print(check_phone('8(955)555-55-55'))\n",
    "print(check_phone('+7 955 555 55 55'))\n",
    "print(check_phone('7(955) 555-55-55'))\n",
    "print(check_phone('+7 955+555+55+55'))\n",
    "print(check_phone('+7555+55+55'))"
   ]
  },
  {
   "cell_type": "code",
   "execution_count": null,
   "metadata": {},
   "outputs": [],
   "source": []
  }
 ],
 "metadata": {
  "kernelspec": {
   "display_name": "Python 3",
   "language": "python",
   "name": "python3"
  },
  "language_info": {
   "codemirror_mode": {
    "name": "ipython",
    "version": 3
   },
   "file_extension": ".py",
   "mimetype": "text/x-python",
   "name": "python",
   "nbconvert_exporter": "python",
   "pygments_lexer": "ipython3",
   "version": "3.7.6"
  }
 },
 "nbformat": 4,
 "nbformat_minor": 4
}
